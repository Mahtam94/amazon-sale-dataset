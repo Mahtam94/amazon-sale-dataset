{
 "cells": [
  {
   "cell_type": "code",
   "execution_count": 1,
   "id": "a18cc042-3928-4a0e-a676-c4a60800f6b2",
   "metadata": {},
   "outputs": [],
   "source": [
    "import pandas as pd\n",
    "import numpy as np\n",
    "import matplotlib.pyplot as plt\n",
    "import seaborn as sns\n",
    "sns.set(style=\"whitegrid\")"
   ]
  },
  {
   "cell_type": "code",
   "execution_count": 2,
   "id": "5c7006a8-1a78-41df-89d0-6ab1c94d2330",
   "metadata": {},
   "outputs": [],
   "source": [
    "from sklearn.ensemble import RandomForestClassifier\n",
    "from sklearn.model_selection import train_test_split\n",
    "from sklearn.preprocessing import LabelEncoder\n",
    "from xgboost import XGBClassifier"
   ]
  },
  {
   "cell_type": "code",
   "execution_count": 5,
   "id": "f6e26618-f66c-4ac9-b3f1-2921452c7f81",
   "metadata": {},
   "outputs": [],
   "source": [
    "df = pd.read_csv('data.csv')"
   ]
  },
  {
   "cell_type": "code",
   "execution_count": 6,
   "id": "ff50124b-1733-496f-bcd1-6c97ec85804b",
   "metadata": {},
   "outputs": [
    {
     "name": "stdout",
     "output_type": "stream",
     "text": [
      "Accuracy: 0.34\n"
     ]
    }
   ],
   "source": [
    "# Encode categorical features\n",
    "df_encoded = df.copy()\n",
    "label_cols = ['Product', 'Category', 'Customer Location', 'Payment Method']\n",
    "for col in label_cols:\n",
    "    df_encoded[col] = LabelEncoder().fit_transform(df_encoded[col])\n",
    "\n",
    "X = df_encoded.drop(['Order ID', 'Date', 'Customer Name', 'Status'], axis=1)\n",
    "y = df_encoded['Status']\n",
    "\n",
    "X_train, X_test, y_train, y_test = train_test_split(X, y, test_size=0.2, random_state=42)\n",
    "\n",
    "clf = RandomForestClassifier()\n",
    "clf.fit(X_train, y_train)\n",
    "print(\"Accuracy:\", clf.score(X_test, y_test))"
   ]
  },
  {
   "cell_type": "code",
   "execution_count": 7,
   "id": "67291319-a2a1-4dbd-9eaa-3002c3eba7a0",
   "metadata": {},
   "outputs": [
    {
     "data": {
      "text/plain": [
       "Status\n",
       "Completed    0.352\n",
       "Pending      0.340\n",
       "Cancelled    0.308\n",
       "Name: proportion, dtype: float64"
      ]
     },
     "execution_count": 7,
     "metadata": {},
     "output_type": "execute_result"
    }
   ],
   "source": [
    "df['Status'].value_counts(normalize=True)"
   ]
  },
  {
   "cell_type": "markdown",
   "id": "74fa0a9e-9a5f-4bb7-ba8b-05a483563e36",
   "metadata": {},
   "source": [
    "## Add new features"
   ]
  },
  {
   "cell_type": "code",
   "execution_count": 8,
   "id": "fd3a5ce5-e89d-488c-bffc-afc47c020a6d",
   "metadata": {},
   "outputs": [
    {
     "data": {
      "text/plain": [
       "0    14-03-25\n",
       "1    20-03-25\n",
       "2    15-02-25\n",
       "3    19-02-25\n",
       "4    10-03-25\n",
       "Name: Date, dtype: object"
      ]
     },
     "execution_count": 8,
     "metadata": {},
     "output_type": "execute_result"
    }
   ],
   "source": [
    "df['Date'].head()"
   ]
  },
  {
   "cell_type": "code",
   "execution_count": 9,
   "id": "e7a14491-4d03-436b-8e1f-34f06cfb1eef",
   "metadata": {},
   "outputs": [],
   "source": [
    "df['Date'] = pd.to_datetime(df['Date'], format='%d-%m-%Y', errors='coerce')  # if your format is like 12-04-2023"
   ]
  },
  {
   "cell_type": "code",
   "execution_count": 10,
   "id": "418ed581-970a-4bb0-8118-37c1473feee7",
   "metadata": {},
   "outputs": [],
   "source": [
    "# Feature: Sales per item\n",
    "df['Sales Per Item'] = df['Total Sales'] / df['Quantity']\n",
    "\n",
    "# Feature: Day of week\n",
    "df['Date'] = pd.to_datetime(df['Date'], errors='coerce')\n",
    "df['Weekday'] = df['Date'].dt.day_name()\n",
    "\n",
    "# Encode categorical variables\n",
    "from sklearn.preprocessing import LabelEncoder\n",
    "\n",
    "df_encoded = df.copy()\n",
    "label_cols = ['Product', 'Category', 'Customer Location', 'Payment Method', 'Weekday']\n",
    "for col in label_cols:\n",
    "    df_encoded[col] = LabelEncoder().fit_transform(df_encoded[col])\n",
    "\n",
    "# Target encoding\n",
    "df_encoded['Status_encoded'] = LabelEncoder().fit_transform(df_encoded['Status'])\n",
    "\n",
    "# Features and target\n",
    "X = df_encoded[['Price', 'Quantity', 'Sales Per Item', 'Product', 'Category',\n",
    "                'Customer Location', 'Payment Method', 'Weekday']]\n",
    "y = df_encoded['Status_encoded']\n"
   ]
  },
  {
   "cell_type": "code",
   "execution_count": 11,
   "id": "43ec0381-c413-4dbd-b1f6-32b63bd36801",
   "metadata": {},
   "outputs": [
    {
     "name": "stdout",
     "output_type": "stream",
     "text": [
      "Accuracy: 0.32\n",
      "[[8 6 2]\n",
      " [5 3 9]\n",
      " [5 7 5]]\n",
      "              precision    recall  f1-score   support\n",
      "\n",
      "           0       0.44      0.50      0.47        16\n",
      "           1       0.19      0.18      0.18        17\n",
      "           2       0.31      0.29      0.30        17\n",
      "\n",
      "    accuracy                           0.32        50\n",
      "   macro avg       0.31      0.32      0.32        50\n",
      "weighted avg       0.31      0.32      0.32        50\n",
      "\n"
     ]
    }
   ],
   "source": [
    "from sklearn.ensemble import RandomForestClassifier\n",
    "from sklearn.model_selection import train_test_split\n",
    "from sklearn.metrics import classification_report, confusion_matrix\n",
    "\n",
    "X_train, X_test, y_train, y_test = train_test_split(X, y, test_size=0.2, random_state=42)\n",
    "\n",
    "clf = RandomForestClassifier(n_estimators=200, max_depth=10, random_state=42)\n",
    "clf.fit(X_train, y_train)\n",
    "\n",
    "y_pred = clf.predict(X_test)\n",
    "\n",
    "print(\"Accuracy:\", clf.score(X_test, y_test))\n",
    "print(confusion_matrix(y_test, y_pred))\n",
    "print(classification_report(y_test, y_pred))\n"
   ]
  },
  {
   "cell_type": "code",
   "execution_count": 12,
   "id": "c59a4204-eaae-4548-8624-d54effdb6f7d",
   "metadata": {},
   "outputs": [
    {
     "name": "stdout",
     "output_type": "stream",
     "text": [
      "              precision    recall  f1-score   support\n",
      "\n",
      "           0       0.31      0.31      0.31        16\n",
      "           1       0.12      0.12      0.12        17\n",
      "           2       0.39      0.41      0.40        17\n",
      "\n",
      "    accuracy                           0.28        50\n",
      "   macro avg       0.28      0.28      0.28        50\n",
      "weighted avg       0.27      0.28      0.28        50\n",
      "\n"
     ]
    }
   ],
   "source": [
    "\n",
    "\n",
    "model = XGBClassifier(n_estimators=200, max_depth=8, random_state=42)\n",
    "model.fit(X_train, y_train)\n",
    "y_pred = model.predict(X_test)\n",
    "print(classification_report(y_test, y_pred))\n"
   ]
  },
  {
   "cell_type": "code",
   "execution_count": null,
   "id": "4ada283e-e04b-4347-9ade-993f7748b167",
   "metadata": {},
   "outputs": [],
   "source": []
  }
 ],
 "metadata": {
  "kernelspec": {
   "display_name": "Python 3 (ipykernel)",
   "language": "python",
   "name": "python3"
  },
  "language_info": {
   "codemirror_mode": {
    "name": "ipython",
    "version": 3
   },
   "file_extension": ".py",
   "mimetype": "text/x-python",
   "name": "python",
   "nbconvert_exporter": "python",
   "pygments_lexer": "ipython3",
   "version": "3.13.3"
  }
 },
 "nbformat": 4,
 "nbformat_minor": 5
}
